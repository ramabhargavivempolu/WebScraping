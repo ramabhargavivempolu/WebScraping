{
  "nbformat": 4,
  "nbformat_minor": 0,
  "metadata": {
    "colab": {
      "provenance": []
    },
    "kernelspec": {
      "name": "python3",
      "display_name": "Python 3"
    },
    "language_info": {
      "name": "python"
    }
  },
  "cells": [
    {
      "cell_type": "markdown",
      "source": [
        "# 1. Agriculture & Food Production - Wikipedia WebPage\n",
        "\n",
        "For Web Scraping I’m using tools such as Beautiful Soup extract the relevant data from the web page. For this dataset I’m performing to find the Top 10 common words with their frequency that is used in the Website. \n"
      ],
      "metadata": {
        "id": "33ZYaSpLjjkG"
      }
    },
    {
      "cell_type": "markdown",
      "source": [
        "# Importing Libraries"
      ],
      "metadata": {
        "id": "xJ-yziKRkiSQ"
      }
    },
    {
      "cell_type": "code",
      "source": [
        "import requests\n",
        "import re\n",
        "import nltk\n",
        "import pandas as pd\n",
        "import matplotlib.pyplot as plt\n",
        "from bs4 import BeautifulSoup\n",
        "from nltk.tokenize import word_tokenize\n",
        "from nltk.probability import FreqDist\n",
        "from nltk.corpus import stopwords\n",
        "from nltk.sentiment import SentimentIntensityAnalyzer"
      ],
      "metadata": {
        "id": "Fly63NmCkJVh"
      },
      "execution_count": 1,
      "outputs": []
    },
    {
      "cell_type": "markdown",
      "source": [
        "Downloading the \"punkt\" and \"stopwords\" corpus from the Natural Language Toolkit (NLTK) library in Python."
      ],
      "metadata": {
        "id": "0dhZH-BLk_wa"
      }
    },
    {
      "cell_type": "code",
      "source": [
        "nltk.download('punkt')"
      ],
      "metadata": {
        "colab": {
          "base_uri": "https://localhost:8080/"
        },
        "id": "Af8JTvYbkqSw",
        "outputId": "09cf4a97-94aa-4318-b8bd-e1129faffe94"
      },
      "execution_count": 2,
      "outputs": [
        {
          "output_type": "stream",
          "name": "stderr",
          "text": [
            "[nltk_data] Downloading package punkt to /root/nltk_data...\n",
            "[nltk_data]   Unzipping tokenizers/punkt.zip.\n"
          ]
        },
        {
          "output_type": "execute_result",
          "data": {
            "text/plain": [
              "True"
            ]
          },
          "metadata": {},
          "execution_count": 2
        }
      ]
    },
    {
      "cell_type": "code",
      "source": [
        "nltk.download('stopwords')"
      ],
      "metadata": {
        "colab": {
          "base_uri": "https://localhost:8080/"
        },
        "id": "3_dplbVKktJQ",
        "outputId": "3b0d19e8-0e0a-4b8a-ec25-e02679b128ea"
      },
      "execution_count": 3,
      "outputs": [
        {
          "output_type": "stream",
          "name": "stderr",
          "text": [
            "[nltk_data] Downloading package stopwords to /root/nltk_data...\n",
            "[nltk_data]   Unzipping corpora/stopwords.zip.\n"
          ]
        },
        {
          "output_type": "execute_result",
          "data": {
            "text/plain": [
              "True"
            ]
          },
          "metadata": {},
          "execution_count": 3
        }
      ]
    },
    {
      "cell_type": "markdown",
      "source": [
        "# Retrieve webpage content"
      ],
      "metadata": {
        "id": "8BfbEG1DlZLS"
      }
    },
    {
      "cell_type": "code",
      "source": [
        "url = \"https://en.wikipedia.org/wiki/Food_and_Agriculture_Organization\"\n",
        "response = requests.get(url)\n",
        "content = response.text"
      ],
      "metadata": {
        "id": "Y714Bl5qlYYZ"
      },
      "execution_count": 4,
      "outputs": []
    },
    {
      "cell_type": "markdown",
      "source": [
        "# Parse HTML content and extract text"
      ],
      "metadata": {
        "id": "-4bDEkuqlfRx"
      }
    },
    {
      "cell_type": "code",
      "source": [
        "soup = BeautifulSoup(content, \"html.parser\")\n",
        "text = soup.get_text()"
      ],
      "metadata": {
        "id": "HFHbwiz_ljrI"
      },
      "execution_count": 5,
      "outputs": []
    },
    {
      "cell_type": "markdown",
      "source": [
        "# Remove non-alphabetic characters and convert to lowercase"
      ],
      "metadata": {
        "id": "xxY6DC2llnwv"
      }
    },
    {
      "cell_type": "code",
      "source": [
        "text = re.sub(r\"[^a-zA-Z ]\", \"\", text.lower())"
      ],
      "metadata": {
        "id": "wUJ7d5Bwlrf-"
      },
      "execution_count": 6,
      "outputs": []
    },
    {
      "cell_type": "markdown",
      "source": [
        "# Tokenize text into words and remove stop words"
      ],
      "metadata": {
        "id": "k9pG9amOlusj"
      }
    },
    {
      "cell_type": "code",
      "source": [
        "tokens = word_tokenize(text)\n",
        "stop_words = set(stopwords.words('english'))\n",
        "filtered_tokens = [word for word in tokens if not word in stop_words]"
      ],
      "metadata": {
        "id": "KgwOu1TAlxQC"
      },
      "execution_count": 7,
      "outputs": []
    },
    {
      "cell_type": "markdown",
      "source": [
        "# Create frequency distribution of words"
      ],
      "metadata": {
        "id": "57h_3wOkl1Um"
      }
    },
    {
      "cell_type": "code",
      "source": [
        "fdist = FreqDist(filtered_tokens)"
      ],
      "metadata": {
        "id": "6ulph4rZl4XT"
      },
      "execution_count": 8,
      "outputs": []
    },
    {
      "cell_type": "markdown",
      "source": [
        "# Get 10 most common words and their frequencies"
      ],
      "metadata": {
        "id": "SV6PV-BWl7rd"
      }
    },
    {
      "cell_type": "code",
      "source": [
        "common_words = fdist.most_common(10)\n",
        "df = pd.DataFrame(common_words, columns=[\"words\", \"frequency\"])\n",
        "print(df)"
      ],
      "metadata": {
        "colab": {
          "base_uri": "https://localhost:8080/"
        },
        "id": "LAnNPRn6l-mn",
        "outputId": "769d5617-0b65-44b3-8ab7-327cbad18d2b"
      },
      "execution_count": 9,
      "outputs": [
        {
          "output_type": "stream",
          "name": "stdout",
          "text": [
            "           words  frequency\n",
            "0           food        141\n",
            "1            fao        141\n",
            "2        nations         79\n",
            "3   organization         75\n",
            "4    agriculture         72\n",
            "5      retrieved         68\n",
            "6          world         52\n",
            "7         united         48\n",
            "8  international         47\n",
            "9        october         42\n"
          ]
        }
      ]
    },
    {
      "cell_type": "markdown",
      "source": [
        "# Visualizing using the bar plot"
      ],
      "metadata": {
        "id": "njGLK74mnHli"
      }
    },
    {
      "cell_type": "code",
      "source": [
        "plt.bar(range(len(common_words)), [val[1] for val in common_words], align='center')\n",
        "plt.xticks(range(len(common_words)), [val[0] for val in common_words])\n",
        "plt.xlabel('Words')\n",
        "plt.ylabel('Frequency')\n",
        "plt.title('Top 10 most common words')\n",
        "plt.show()"
      ],
      "metadata": {
        "colab": {
          "base_uri": "https://localhost:8080/",
          "height": 295
        },
        "id": "W1gZ6Q22nF5g",
        "outputId": "2933dcbd-97b5-475e-fca4-a67310aa57c2"
      },
      "execution_count": 10,
      "outputs": [
        {
          "output_type": "display_data",
          "data": {
            "text/plain": [
              "<Figure size 432x288 with 1 Axes>"
            ],
            "image/png": "[encoded data removed]"
          },
          "metadata": {
            "needs_background": "light"
          }
        }
      ]
    },
    {
      "cell_type": "markdown",
      "source": [
        "# 2. Beyond climate-smart agriculture (PDF file)\n",
        "Using the Python PyPDF2 module, I'm extracting the text from the pdf file. For this PDF file I'm identifying the top areas where food safety has to be improved."
      ],
      "metadata": {
        "id": "qFRPMa_cnVOE"
      }
    },
    {
      "cell_type": "markdown",
      "source": [
        "# Importing Libraries"
      ],
      "metadata": {
        "id": "GLsh49kQpIGF"
      }
    },
    {
      "cell_type": "markdown",
      "source": [
        "Installing the PyPDF2 module"
      ],
      "metadata": {
        "id": "Oaf-rtztpW_m"
      }
    },
    {
      "cell_type": "code",
      "source": [
        "pip install PyPDF2"
      ],
      "metadata": {
        "colab": {
          "base_uri": "https://localhost:8080/"
        },
        "id": "_2BptEFtpMmP",
        "outputId": "4229861a-dc14-4fd9-9ce1-a9342015b9c6"
      },
      "execution_count": 11,
      "outputs": [
        {
          "output_type": "stream",
          "name": "stdout",
          "text": [
            "Looking in indexes: https://pypi.org/simple, https://us-python.pkg.dev/colab-wheels/public/simple/\n",
            "Collecting PyPDF2\n",
            "  Downloading pypdf2-3.0.1-py3-none-any.whl (232 kB)\n",
            "\u001b[2K     \u001b[90m━━━━━━━━━━━━━━━━━━━━━━━━━━━━━━━━━━━━━━━\u001b[0m \u001b[32m232.6/232.6 KB\u001b[0m \u001b[31m2.6 MB/s\u001b[0m eta \u001b[36m0:00:00\u001b[0m\n",
            "\u001b[?25hRequirement already satisfied: typing_extensions>=3.10.0.0 in /usr/local/lib/python3.9/dist-packages (from PyPDF2) (4.5.0)\n",
            "Installing collected packages: PyPDF2\n",
            "Successfully installed PyPDF2-3.0.1\n"
          ]
        }
      ]
    },
    {
      "cell_type": "code",
      "source": [
        "import re\n",
        "import PyPDF2\n",
        "import collections\n",
        "from collections import Counter\n",
        "import matplotlib.pyplot as plt"
      ],
      "metadata": {
        "id": "J3KUh1oepe1-"
      },
      "execution_count": 12,
      "outputs": []
    },
    {
      "cell_type": "markdown",
      "source": [
        "# Open the PDF file and extract the text"
      ],
      "metadata": {
        "id": "-8cfqjwUpmQw"
      }
    },
    {
      "cell_type": "code",
      "source": [
        "pdf_file = open('2048-7010-2-12.pdf', 'rb')\n",
        "pdf_reader = PyPDF2.PdfReader(pdf_file)\n",
        "text_data = pdf_reader.pages[0].extract_text()"
      ],
      "metadata": {
        "id": "u03kSvp6pnR2"
      },
      "execution_count": 14,
      "outputs": []
    },
    {
      "cell_type": "markdown",
      "source": [
        "# Preprocess and tokenize the text data"
      ],
      "metadata": {
        "id": "_NhHibk9pwL6"
      }
    },
    {
      "cell_type": "code",
      "source": [
        "text_data = re.sub(r'\\W+', ' ', text_data)  # Remove all non-word characters\n",
        "tokens = text_data.lower().split()  # Convert to lowercase and split into words"
      ],
      "metadata": {
        "id": "-c3C8aFFptfW"
      },
      "execution_count": 15,
      "outputs": []
    },
    {
      "cell_type": "markdown",
      "source": [
        "# Perform frequency analysis"
      ],
      "metadata": {
        "id": "S9LluMYdpzu6"
      }
    },
    {
      "cell_type": "code",
      "source": [
        "freq_count = Counter(tokens)"
      ],
      "metadata": {
        "id": "mjZWKtYRp2xo"
      },
      "execution_count": 16,
      "outputs": []
    },
    {
      "cell_type": "markdown",
      "source": [
        "# Group relevant keywords connected to food safety into topic groups"
      ],
      "metadata": {
        "id": "xkNhFiqPp5sh"
      }
    },
    {
      "cell_type": "code",
      "source": [
        "cleanliness_keywords = ['cleanliness', 'sanitation', 'hygiene', 'disinfection','current','agendas']\n",
        "training_keywords = ['employee training', 'food handling training', 'food safety training']\n",
        "temperature_keywords = ['temperature control', 'cooking temperatures', 'food storage temperatures']\n",
        "traceability_keywords = ['product traceability', 'record keeping', 'audit trail']\n",
        "\n",
        "topic_groups = {'cleanliness and sanitation': cleanliness_keywords,\n",
        "                'employee training and education': training_keywords,\n",
        "                'temperature control': temperature_keywords,\n",
        "                'product traceability and record keeping': traceability_keywords}"
      ],
      "metadata": {
        "id": "wSaCK_cYp7u7"
      },
      "execution_count": 17,
      "outputs": []
    },
    {
      "cell_type": "markdown",
      "source": [
        "# Determine the main areas of improvement\n",
        "\n",
        "The code calculates the total frequency count of all keywords associated with each topic, and determines that the main area of improvement in food safety is \"cleanliness and sanitation\" based on the topic with the highest frequency count."
      ],
      "metadata": {
        "id": "ljuRIcvQqDzH"
      }
    },
    {
      "cell_type": "code",
      "source": [
        "topic_freq_counts = {}\n",
        "for topic, keywords in topic_groups.items():\n",
        "    topic_freq_counts[topic] = sum([freq_count[keyword] for keyword in keywords])\n",
        "\n",
        "main_topic = max(topic_freq_counts, key=topic_freq_counts.get)\n",
        "print(f'The main area of improvement in food safety is {main_topic}.')"
      ],
      "metadata": {
        "colab": {
          "base_uri": "https://localhost:8080/"
        },
        "id": "CRqB4i8XqE8w",
        "outputId": "68e127d4-e637-4546-d512-9fa785d851e8"
      },
      "execution_count": 18,
      "outputs": [
        {
          "output_type": "stream",
          "name": "stdout",
          "text": [
            "The main area of improvement in food safety is cleanliness and sanitation.\n"
          ]
        }
      ]
    },
    {
      "cell_type": "markdown",
      "source": [
        "# Visualizing using the bar plot"
      ],
      "metadata": {
        "id": "ghGBLwR6tK3N"
      }
    },
    {
      "cell_type": "code",
      "source": [
        "# Create bar plot\n",
        "plt.bar(freq_count.keys(), freq_count.values())\n",
        "plt.xlabel('Topics')\n",
        "plt.ylabel('Frequency')\n",
        "plt.title('Main areas of improvement in food safety')\n",
        "n = 10  # Display every nth value\n",
        "x_ticks = list(freq_count.keys())[::n]  # Get every nth key as tick label\n",
        "plt.xticks(x_ticks, rotation=90)\n",
        "\n",
        "plt.show()"
      ],
      "metadata": {
        "colab": {
          "base_uri": "https://localhost:8080/",
          "height": 343
        },
        "id": "U25bcD1nrNxy",
        "outputId": "cc0c9a17-8358-40a0-db20-44e971a241a1"
      },
      "execution_count": 19,
      "outputs": [
        {
          "output_type": "display_data",
          "data": {
            "text/plain": [
              "<Figure size 432x288 with 1 Axes>"
            ],
            "image/png": "[encoded data removed]"
          },
          "metadata": {
            "needs_background": "light"
          }
        }
      ]
    },
    {
      "cell_type": "markdown",
      "source": [
        "# 3. Global Food & Agriculture Statistics (csv file from Kaggle)\n",
        "\n",
        "For this, I'm going to execute first-stage pre-processing, where the data is processed by eliminating any stop words, punctuation, and other irrelevant characters. I'm going to locate the most prevalent terms on the nations field, which gives me the top 10 countries that grow crops."
      ],
      "metadata": {
        "id": "zV1IGQ0outV6"
      }
    },
    {
      "cell_type": "markdown",
      "source": [
        "# Importing Libraries"
      ],
      "metadata": {
        "id": "6XluylkRvQjH"
      }
    },
    {
      "cell_type": "code",
      "source": [
        "import pandas as pd\n",
        "import nltk\n",
        "nltk.download('punkt')\n",
        "nltk.download('stopwords')\n",
        "from nltk.tokenize import word_tokenize\n",
        "from nltk.corpus import stopwords\n",
        "from collections import Counter\n",
        "import matplotlib.pyplot as plt\n",
        "import multiprocessing"
      ],
      "metadata": {
        "colab": {
          "base_uri": "https://localhost:8080/"
        },
        "id": "4QuQkAFBvFYE",
        "outputId": "fa6fb39a-7689-4755-c009-e7524b9741c1"
      },
      "execution_count": 20,
      "outputs": [
        {
          "output_type": "stream",
          "name": "stderr",
          "text": [
            "[nltk_data] Downloading package punkt to /root/nltk_data...\n",
            "[nltk_data]   Package punkt is already up-to-date!\n",
            "[nltk_data] Downloading package stopwords to /root/nltk_data...\n",
            "[nltk_data]   Package stopwords is already up-to-date!\n"
          ]
        }
      ]
    },
    {
      "cell_type": "markdown",
      "source": [
        "# Loading the DataSet into Pandas DataFrame"
      ],
      "metadata": {
        "id": "OnfLIx_evbUT"
      }
    },
    {
      "cell_type": "code",
      "source": [
        "crops_data = pd.read_csv('fao_data_crops_data.csv')\n",
        "crops_data.head()"
      ],
      "metadata": {
        "colab": {
          "base_uri": "https://localhost:8080/",
          "height": 206
        },
        "id": "IBXk5GoDvde4",
        "outputId": "f37861a6-b2a6-420e-d0cb-4e9520ca8d9b"
      },
      "execution_count": 40,
      "outputs": [
        {
          "output_type": "execute_result",
          "data": {
            "text/plain": [
              "  country_or_area element_code         element    year unit    value  \\\n",
              "0      Americas +           31  Area Harvested  2007.0   Ha  49404.0   \n",
              "1      Americas +           31  Area Harvested  2006.0   Ha  49404.0   \n",
              "2      Americas +           31  Area Harvested  2005.0   Ha  49404.0   \n",
              "3      Americas +           31  Area Harvested  2004.0   Ha  49113.0   \n",
              "4      Americas +           31  Area Harvested  2003.0   Ha  48559.0   \n",
              "\n",
              "  value_footnotes          category  \n",
              "0              A   agave_fibres_nes  \n",
              "1              A   agave_fibres_nes  \n",
              "2              A   agave_fibres_nes  \n",
              "3              A   agave_fibres_nes  \n",
              "4              A   agave_fibres_nes  "
            ],
            "text/html": [
              "\n",
              "  <div id=\"df-86cc2ed1-25c8-4005-b171-3be827196b96\">\n",
              "    <div class=\"colab-df-container\">\n",
              "      <div>\n",
              "<style scoped>\n",
              "    .dataframe tbody tr th:only-of-type {\n",
              "        vertical-align: middle;\n",
              "    }\n",
              "\n",
              "    .dataframe tbody tr th {\n",
              "        vertical-align: top;\n",
              "    }\n",
              "\n",
              "    .dataframe thead th {\n",
              "        text-align: right;\n",
              "    }\n",
              "</style>\n",
              "<table border=\"1\" class=\"dataframe\">\n",
              "  <thead>\n",
              "    <tr style=\"text-align: right;\">\n",
              "      <th></th>\n",
              "      <th>country_or_area</th>\n",
              "      <th>element_code</th>\n",
              "      <th>element</th>\n",
              "      <th>year</th>\n",
              "      <th>unit</th>\n",
              "      <th>value</th>\n",
              "      <th>value_footnotes</th>\n",
              "      <th>category</th>\n",
              "    </tr>\n",
              "  </thead>\n",
              "  <tbody>\n",
              "    <tr>\n",
              "      <th>0</th>\n",
              "      <td>Americas +</td>\n",
              "      <td>31</td>\n",
              "      <td>Area Harvested</td>\n",
              "      <td>2007.0</td>\n",
              "      <td>Ha</td>\n",
              "      <td>49404.0</td>\n",
              "      <td>A</td>\n",
              "      <td>agave_fibres_nes</td>\n",
              "    </tr>\n",
              "    <tr>\n",
              "      <th>1</th>\n",
              "      <td>Americas +</td>\n",
              "      <td>31</td>\n",
              "      <td>Area Harvested</td>\n",
              "      <td>2006.0</td>\n",
              "      <td>Ha</td>\n",
              "      <td>49404.0</td>\n",
              "      <td>A</td>\n",
              "      <td>agave_fibres_nes</td>\n",
              "    </tr>\n",
              "    <tr>\n",
              "      <th>2</th>\n",
              "      <td>Americas +</td>\n",
              "      <td>31</td>\n",
              "      <td>Area Harvested</td>\n",
              "      <td>2005.0</td>\n",
              "      <td>Ha</td>\n",
              "      <td>49404.0</td>\n",
              "      <td>A</td>\n",
              "      <td>agave_fibres_nes</td>\n",
              "    </tr>\n",
              "    <tr>\n",
              "      <th>3</th>\n",
              "      <td>Americas +</td>\n",
              "      <td>31</td>\n",
              "      <td>Area Harvested</td>\n",
              "      <td>2004.0</td>\n",
              "      <td>Ha</td>\n",
              "      <td>49113.0</td>\n",
              "      <td>A</td>\n",
              "      <td>agave_fibres_nes</td>\n",
              "    </tr>\n",
              "    <tr>\n",
              "      <th>4</th>\n",
              "      <td>Americas +</td>\n",
              "      <td>31</td>\n",
              "      <td>Area Harvested</td>\n",
              "      <td>2003.0</td>\n",
              "      <td>Ha</td>\n",
              "      <td>48559.0</td>\n",
              "      <td>A</td>\n",
              "      <td>agave_fibres_nes</td>\n",
              "    </tr>\n",
              "  </tbody>\n",
              "</table>\n",
              "</div>\n",
              "      <button class=\"colab-df-convert\" onclick=\"convertToInteractive('df-86cc2ed1-25c8-4005-b171-3be827196b96')\"\n",
              "              title=\"Convert this dataframe to an interactive table.\"\n",
              "              style=\"display:none;\">\n",
              "        \n",
              "  <svg xmlns=\"http://www.w3.org/2000/svg\" height=\"24px\"viewBox=\"0 0 24 24\"\n",
              "       width=\"24px\">\n",
              "    <path d=\"M0 0h24v24H0V0z\" fill=\"none\"/>\n",
              "    <path d=\"M18.56 5.44l.94 2.06.94-2.06 2.06-.94-2.06-.94-.94-2.06-.94 2.06-2.06.94zm-11 1L8.5 8.5l.94-2.06 2.06-.94-2.06-.94L8.5 2.5l-.94 2.06-2.06.94zm10 10l.94 2.06.94-2.06 2.06-.94-2.06-.94-.94-2.06-.94 2.06-2.06.94z\"/><path d=\"M17.41 7.96l-1.37-1.37c-.4-.4-.92-.59-1.43-.59-.52 0-1.04.2-1.43.59L10.3 9.45l-7.72 7.72c-.78.78-.78 2.05 0 2.83L4 21.41c.39.39.9.59 1.41.59.51 0 1.02-.2 1.41-.59l7.78-7.78 2.81-2.81c.8-.78.8-2.07 0-2.86zM5.41 20L4 18.59l7.72-7.72 1.47 1.35L5.41 20z\"/>\n",
              "  </svg>\n",
              "      </button>\n",
              "      \n",
              "  <style>\n",
              "    .colab-df-container {\n",
              "      display:flex;\n",
              "      flex-wrap:wrap;\n",
              "      gap: 12px;\n",
              "    }\n",
              "\n",
              "    .colab-df-convert {\n",
              "      background-color: #E8F0FE;\n",
              "      border: none;\n",
              "      border-radius: 50%;\n",
              "      cursor: pointer;\n",
              "      display: none;\n",
              "      fill: #1967D2;\n",
              "      height: 32px;\n",
              "      padding: 0 0 0 0;\n",
              "      width: 32px;\n",
              "    }\n",
              "\n",
              "    .colab-df-convert:hover {\n",
              "      background-color: #E2EBFA;\n",
              "      box-shadow: 0px 1px 2px rgba(60, 64, 67, 0.3), 0px 1px 3px 1px rgba(60, 64, 67, 0.15);\n",
              "      fill: #174EA6;\n",
              "    }\n",
              "\n",
              "    [theme=dark] .colab-df-convert {\n",
              "      background-color: #3B4455;\n",
              "      fill: #D2E3FC;\n",
              "    }\n",
              "\n",
              "    [theme=dark] .colab-df-convert:hover {\n",
              "      background-color: #434B5C;\n",
              "      box-shadow: 0px 1px 3px 1px rgba(0, 0, 0, 0.15);\n",
              "      filter: drop-shadow(0px 1px 2px rgba(0, 0, 0, 0.3));\n",
              "      fill: #FFFFFF;\n",
              "    }\n",
              "  </style>\n",
              "\n",
              "      <script>\n",
              "        const buttonEl =\n",
              "          document.querySelector('#df-86cc2ed1-25c8-4005-b171-3be827196b96 button.colab-df-convert');\n",
              "        buttonEl.style.display =\n",
              "          google.colab.kernel.accessAllowed ? 'block' : 'none';\n",
              "\n",
              "        async function convertToInteractive(key) {\n",
              "          const element = document.querySelector('#df-86cc2ed1-25c8-4005-b171-3be827196b96');\n",
              "          const dataTable =\n",
              "            await google.colab.kernel.invokeFunction('convertToInteractive',\n",
              "                                                     [key], {});\n",
              "          if (!dataTable) return;\n",
              "\n",
              "          const docLinkHtml = 'Like what you see? Visit the ' +\n",
              "            '<a target=\"_blank\" href=https://colab.research.google.com/notebooks/data_table.ipynb>data table notebook</a>'\n",
              "            + ' to learn more about interactive tables.';\n",
              "          element.innerHTML = '';\n",
              "          dataTable['output_type'] = 'display_data';\n",
              "          await google.colab.output.renderOutput(dataTable, element);\n",
              "          const docLink = document.createElement('div');\n",
              "          docLink.innerHTML = docLinkHtml;\n",
              "          element.appendChild(docLink);\n",
              "        }\n",
              "      </script>\n",
              "    </div>\n",
              "  </div>\n",
              "  "
            ]
          },
          "metadata": {},
          "execution_count": 40
        }
      ]
    },
    {
      "cell_type": "code",
      "source": [
        "crops_data.tail()"
      ],
      "metadata": {
        "colab": {
          "base_uri": "https://localhost:8080/",
          "height": 267
        },
        "id": "IgWb8PJIvi_2",
        "outputId": "d4fb092e-1357-4287-ea69-0fb381e89616"
      },
      "execution_count": 41,
      "outputs": [
        {
          "output_type": "execute_result",
          "data": {
            "text/plain": [
              "        country_or_area                                       element_code  \\\n",
              "2255344              Fc                                    Calculated Data   \n",
              "2255345              A   May include official, semi-official or estimat...   \n",
              "2255346              NR                            Not reported by country   \n",
              "2255347              F                                        FAO Estimate   \n",
              "2255348              *                                   Unofficial figure   \n",
              "\n",
              "        element  year unit  value value_footnotes        category  \n",
              "2255344     NaN   NaN  NaN    NaN             NaN  yautia_cocoyam  \n",
              "2255345     NaN   NaN  NaN    NaN             NaN  yautia_cocoyam  \n",
              "2255346     NaN   NaN  NaN    NaN             NaN  yautia_cocoyam  \n",
              "2255347     NaN   NaN  NaN    NaN             NaN  yautia_cocoyam  \n",
              "2255348     NaN   NaN  NaN    NaN             NaN  yautia_cocoyam  "
            ],
            "text/html": [
              "\n",
              "  <div id=\"df-4bf94ab5-2d7e-4224-ba75-47d09cdbd965\">\n",
              "    <div class=\"colab-df-container\">\n",
              "      <div>\n",
              "<style scoped>\n",
              "    .dataframe tbody tr th:only-of-type {\n",
              "        vertical-align: middle;\n",
              "    }\n",
              "\n",
              "    .dataframe tbody tr th {\n",
              "        vertical-align: top;\n",
              "    }\n",
              "\n",
              "    .dataframe thead th {\n",
              "        text-align: right;\n",
              "    }\n",
              "</style>\n",
              "<table border=\"1\" class=\"dataframe\">\n",
              "  <thead>\n",
              "    <tr style=\"text-align: right;\">\n",
              "      <th></th>\n",
              "      <th>country_or_area</th>\n",
              "      <th>element_code</th>\n",
              "      <th>element</th>\n",
              "      <th>year</th>\n",
              "      <th>unit</th>\n",
              "      <th>value</th>\n",
              "      <th>value_footnotes</th>\n",
              "      <th>category</th>\n",
              "    </tr>\n",
              "  </thead>\n",
              "  <tbody>\n",
              "    <tr>\n",
              "      <th>2255344</th>\n",
              "      <td>Fc</td>\n",
              "      <td>Calculated Data</td>\n",
              "      <td>NaN</td>\n",
              "      <td>NaN</td>\n",
              "      <td>NaN</td>\n",
              "      <td>NaN</td>\n",
              "      <td>NaN</td>\n",
              "      <td>yautia_cocoyam</td>\n",
              "    </tr>\n",
              "    <tr>\n",
              "      <th>2255345</th>\n",
              "      <td>A</td>\n",
              "      <td>May include official, semi-official or estimat...</td>\n",
              "      <td>NaN</td>\n",
              "      <td>NaN</td>\n",
              "      <td>NaN</td>\n",
              "      <td>NaN</td>\n",
              "      <td>NaN</td>\n",
              "      <td>yautia_cocoyam</td>\n",
              "    </tr>\n",
              "    <tr>\n",
              "      <th>2255346</th>\n",
              "      <td>NR</td>\n",
              "      <td>Not reported by country</td>\n",
              "      <td>NaN</td>\n",
              "      <td>NaN</td>\n",
              "      <td>NaN</td>\n",
              "      <td>NaN</td>\n",
              "      <td>NaN</td>\n",
              "      <td>yautia_cocoyam</td>\n",
              "    </tr>\n",
              "    <tr>\n",
              "      <th>2255347</th>\n",
              "      <td>F</td>\n",
              "      <td>FAO Estimate</td>\n",
              "      <td>NaN</td>\n",
              "      <td>NaN</td>\n",
              "      <td>NaN</td>\n",
              "      <td>NaN</td>\n",
              "      <td>NaN</td>\n",
              "      <td>yautia_cocoyam</td>\n",
              "    </tr>\n",
              "    <tr>\n",
              "      <th>2255348</th>\n",
              "      <td>*</td>\n",
              "      <td>Unofficial figure</td>\n",
              "      <td>NaN</td>\n",
              "      <td>NaN</td>\n",
              "      <td>NaN</td>\n",
              "      <td>NaN</td>\n",
              "      <td>NaN</td>\n",
              "      <td>yautia_cocoyam</td>\n",
              "    </tr>\n",
              "  </tbody>\n",
              "</table>\n",
              "</div>\n",
              "      <button class=\"colab-df-convert\" onclick=\"convertToInteractive('df-4bf94ab5-2d7e-4224-ba75-47d09cdbd965')\"\n",
              "              title=\"Convert this dataframe to an interactive table.\"\n",
              "              style=\"display:none;\">\n",
              "        \n",
              "  <svg xmlns=\"http://www.w3.org/2000/svg\" height=\"24px\"viewBox=\"0 0 24 24\"\n",
              "       width=\"24px\">\n",
              "    <path d=\"M0 0h24v24H0V0z\" fill=\"none\"/>\n",
              "    <path d=\"M18.56 5.44l.94 2.06.94-2.06 2.06-.94-2.06-.94-.94-2.06-.94 2.06-2.06.94zm-11 1L8.5 8.5l.94-2.06 2.06-.94-2.06-.94L8.5 2.5l-.94 2.06-2.06.94zm10 10l.94 2.06.94-2.06 2.06-.94-2.06-.94-.94-2.06-.94 2.06-2.06.94z\"/><path d=\"M17.41 7.96l-1.37-1.37c-.4-.4-.92-.59-1.43-.59-.52 0-1.04.2-1.43.59L10.3 9.45l-7.72 7.72c-.78.78-.78 2.05 0 2.83L4 21.41c.39.39.9.59 1.41.59.51 0 1.02-.2 1.41-.59l7.78-7.78 2.81-2.81c.8-.78.8-2.07 0-2.86zM5.41 20L4 18.59l7.72-7.72 1.47 1.35L5.41 20z\"/>\n",
              "  </svg>\n",
              "      </button>\n",
              "      \n",
              "  <style>\n",
              "    .colab-df-container {\n",
              "      display:flex;\n",
              "      flex-wrap:wrap;\n",
              "      gap: 12px;\n",
              "    }\n",
              "\n",
              "    .colab-df-convert {\n",
              "      background-color: #E8F0FE;\n",
              "      border: none;\n",
              "      border-radius: 50%;\n",
              "      cursor: pointer;\n",
              "      display: none;\n",
              "      fill: #1967D2;\n",
              "      height: 32px;\n",
              "      padding: 0 0 0 0;\n",
              "      width: 32px;\n",
              "    }\n",
              "\n",
              "    .colab-df-convert:hover {\n",
              "      background-color: #E2EBFA;\n",
              "      box-shadow: 0px 1px 2px rgba(60, 64, 67, 0.3), 0px 1px 3px 1px rgba(60, 64, 67, 0.15);\n",
              "      fill: #174EA6;\n",
              "    }\n",
              "\n",
              "    [theme=dark] .colab-df-convert {\n",
              "      background-color: #3B4455;\n",
              "      fill: #D2E3FC;\n",
              "    }\n",
              "\n",
              "    [theme=dark] .colab-df-convert:hover {\n",
              "      background-color: #434B5C;\n",
              "      box-shadow: 0px 1px 3px 1px rgba(0, 0, 0, 0.15);\n",
              "      filter: drop-shadow(0px 1px 2px rgba(0, 0, 0, 0.3));\n",
              "      fill: #FFFFFF;\n",
              "    }\n",
              "  </style>\n",
              "\n",
              "      <script>\n",
              "        const buttonEl =\n",
              "          document.querySelector('#df-4bf94ab5-2d7e-4224-ba75-47d09cdbd965 button.colab-df-convert');\n",
              "        buttonEl.style.display =\n",
              "          google.colab.kernel.accessAllowed ? 'block' : 'none';\n",
              "\n",
              "        async function convertToInteractive(key) {\n",
              "          const element = document.querySelector('#df-4bf94ab5-2d7e-4224-ba75-47d09cdbd965');\n",
              "          const dataTable =\n",
              "            await google.colab.kernel.invokeFunction('convertToInteractive',\n",
              "                                                     [key], {});\n",
              "          if (!dataTable) return;\n",
              "\n",
              "          const docLinkHtml = 'Like what you see? Visit the ' +\n",
              "            '<a target=\"_blank\" href=https://colab.research.google.com/notebooks/data_table.ipynb>data table notebook</a>'\n",
              "            + ' to learn more about interactive tables.';\n",
              "          element.innerHTML = '';\n",
              "          dataTable['output_type'] = 'display_data';\n",
              "          await google.colab.output.renderOutput(dataTable, element);\n",
              "          const docLink = document.createElement('div');\n",
              "          docLink.innerHTML = docLinkHtml;\n",
              "          element.appendChild(docLink);\n",
              "        }\n",
              "      </script>\n",
              "    </div>\n",
              "  </div>\n",
              "  "
            ]
          },
          "metadata": {},
          "execution_count": 41
        }
      ]
    },
    {
      "cell_type": "markdown",
      "source": [
        "# Print out the type, Non-Null count, and name of each column"
      ],
      "metadata": {
        "id": "u4HQJNvEvoa1"
      }
    },
    {
      "cell_type": "code",
      "source": [
        "crops_data.info()"
      ],
      "metadata": {
        "colab": {
          "base_uri": "https://localhost:8080/"
        },
        "id": "77U_-2HavmBN",
        "outputId": "0a625886-1d68-4bb0-f127-45390a44b11d"
      },
      "execution_count": 42,
      "outputs": [
        {
          "output_type": "stream",
          "name": "stdout",
          "text": [
            "<class 'pandas.core.frame.DataFrame'>\n",
            "RangeIndex: 2255349 entries, 0 to 2255348\n",
            "Data columns (total 8 columns):\n",
            " #   Column           Dtype  \n",
            "---  ------           -----  \n",
            " 0   country_or_area  object \n",
            " 1   element_code     object \n",
            " 2   element          object \n",
            " 3   year             float64\n",
            " 4   unit             object \n",
            " 5   value            float64\n",
            " 6   value_footnotes  object \n",
            " 7   category         object \n",
            "dtypes: float64(2), object(6)\n",
            "memory usage: 137.7+ MB\n"
          ]
        }
      ]
    },
    {
      "cell_type": "markdown",
      "source": [
        "# Create a list of stop words to remove"
      ],
      "metadata": {
        "id": "VAHuTQS3vtLn"
      }
    },
    {
      "cell_type": "code",
      "source": [
        "stop_words = set(stopwords.words('english'))"
      ],
      "metadata": {
        "id": "U7_3Kp4gv1FL"
      },
      "execution_count": 43,
      "outputs": []
    },
    {
      "cell_type": "markdown",
      "source": [
        "# Define a function to tokenize a single text string"
      ],
      "metadata": {
        "id": "HfcPi43xv479"
      }
    },
    {
      "cell_type": "code",
      "source": [
        "def tokenize_text(text):\n",
        "    return nltk.word_tokenize(text)"
      ],
      "metadata": {
        "id": "8q1rTsR_v8cl"
      },
      "execution_count": 44,
      "outputs": []
    },
    {
      "cell_type": "markdown",
      "source": [
        "# Tokenize the pre-processed text into individual words using NLTK and parallel processing"
      ],
      "metadata": {
        "id": "WENwg0CAv_zU"
      }
    },
    {
      "cell_type": "code",
      "source": [
        "with multiprocessing.Pool() as pool:\n",
        "    crops_data['country_or_area'] = pool.map(tokenize_text, crops_data['country_or_area'])"
      ],
      "metadata": {
        "id": "tS63JTesv_C7"
      },
      "execution_count": 45,
      "outputs": []
    },
    {
      "cell_type": "markdown",
      "source": [
        "# Flatten the list of lists into a single list of words"
      ],
      "metadata": {
        "id": "30NHwfXUwZZd"
      }
    },
    {
      "cell_type": "code",
      "source": [
        "words = [word for sublist in crops_data['country_or_area'] for word in sublist]"
      ],
      "metadata": {
        "id": "AL8xYfFvwc9N"
      },
      "execution_count": 46,
      "outputs": []
    },
    {
      "cell_type": "markdown",
      "source": [
        "# Count the frequency of each word using Python's built-in Counter function"
      ],
      "metadata": {
        "id": "4uSnh42mwgXm"
      }
    },
    {
      "cell_type": "code",
      "source": [
        "word_counts = Counter(words)"
      ],
      "metadata": {
        "id": "xd1vhD1lwkoa"
      },
      "execution_count": 47,
      "outputs": []
    },
    {
      "cell_type": "markdown",
      "source": [
        "# Choose the top n words from the frequency count's descending order to determine which words are the most prevalent"
      ],
      "metadata": {
        "id": "_xMGoFekwoZ9"
      }
    },
    {
      "cell_type": "code",
      "source": [
        "n = 14\n",
        "word_counts = Counter(words)\n",
        "top_words = dict(word_counts.most_common(n))\n",
        "\n",
        "# Remove unwanted words\n",
        "for word in ['+', 'of', ',','and']:\n",
        "    del top_words[word]\n",
        "\n",
        "df = pd.DataFrame({'Country': list(top_words.keys()), 'Frequency': list(top_words.values())})\n",
        "\n",
        "print(df)"
      ],
      "metadata": {
        "colab": {
          "base_uri": "https://localhost:8080/"
        },
        "id": "c79gn0zewtqz",
        "outputId": "9a5142b4-1445-4515-abb3-be9fd4aea116"
      },
      "execution_count": 48,
      "outputs": [
        {
          "output_type": "stream",
          "name": "stdout",
          "text": [
            "     Country  Frequency\n",
            "0       Asia     121542\n",
            "1     Africa     120649\n",
            "2   Republic     114363\n",
            "3     Europe      89018\n",
            "4    America      76422\n",
            "5    Eastern      59314\n",
            "6   Southern      54285\n",
            "7    Western      53721\n",
            "8  Countries      51559\n",
            "9   Northern      49115\n"
          ]
        }
      ]
    },
    {
      "cell_type": "markdown",
      "source": [
        "# Visualize the most prevalent words using a bar chart"
      ],
      "metadata": {
        "id": "gpbku9MEwwDm"
      }
    },
    {
      "cell_type": "code",
      "source": [
        "plt.bar(top_words.keys(), top_words.values())\n",
        "plt.xticks(rotation=90)\n",
        "plt.xlabel('Words')\n",
        "plt.ylabel('Frequency')\n",
        "plt.title('Top 10 Words in Country Names'.format(n))\n",
        "plt.show()"
      ],
      "metadata": {
        "colab": {
          "base_uri": "https://localhost:8080/",
          "height": 333
        },
        "id": "7pV_foCWw4JE",
        "outputId": "6c1446b2-56c0-4d59-9fbc-9cc338a4ed21"
      },
      "execution_count": 49,
      "outputs": [
        {
          "output_type": "display_data",
          "data": {
            "text/plain": [
              "<Figure size 432x288 with 1 Axes>"
            ],
            "image/png": "[encoded data removed]"
          },
          "metadata": {
            "needs_background": "light"
          }
        }
      ]
    }
  ]
}